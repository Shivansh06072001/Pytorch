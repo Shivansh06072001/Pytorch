{
 "cells": [
  {
   "cell_type": "markdown",
   "metadata": {},
   "source": [
    "# IMPORTING LIBRARIES"
   ]
  },
  {
   "cell_type": "code",
   "execution_count": 1,
   "metadata": {},
   "outputs": [],
   "source": [
    "import numpy as np\n",
    "import pandas as pd\n",
    "import torch \n",
    "import torch.nn as nn\n",
    "import matplotlib.pyplot as plt\n",
    "from torch.autograd import Variable"
   ]
  },
  {
   "cell_type": "markdown",
   "metadata": {},
   "source": [
    "# CREATING TRAINING DATA SETS"
   ]
  },
  {
   "cell_type": "code",
   "execution_count": 2,
   "metadata": {},
   "outputs": [
    {
     "data": {
      "text/plain": [
       "array([[ 0.],\n",
       "       [ 1.],\n",
       "       [ 2.],\n",
       "       [ 3.],\n",
       "       [ 4.],\n",
       "       [ 5.],\n",
       "       [ 6.],\n",
       "       [ 7.],\n",
       "       [ 8.],\n",
       "       [ 9.],\n",
       "       [10.]], dtype=float32)"
      ]
     },
     "execution_count": 2,
     "metadata": {},
     "output_type": "execute_result"
    }
   ],
   "source": [
    "#linear model : y = 7x+5\n",
    "x_values = [i for i in range(11)]\n",
    "x_train = np.array(x_values,dtype=np.float32)\n",
    "x_train = x_train.reshape(-1,1)\n",
    "x_train"
   ]
  },
  {
   "cell_type": "code",
   "execution_count": null,
   "metadata": {},
   "outputs": [],
   "source": [
    "y_values = [7*x+5 for x in x_values]\n",
    "y_train = np.array(y_values,dtype=np.float32)\n",
    "y_train = y_train.reshape(-1,1)\n",
    "y_train"
   ]
  },
  {
   "cell_type": "markdown",
   "metadata": {},
   "source": [
    "Define a class called linearRegression which inherits nn.Module ( basic Neural Network module ) that contains all the required function"
   ]
  },
  {
   "cell_type": "code",
   "execution_count": 4,
   "metadata": {},
   "outputs": [],
   "source": [
    "class linearRegression(nn.Module):\n",
    "    def __init__(self,inputSize,outputSize):\n",
    "        super(linearRegression,self).__init__()\n",
    "        self.linear = nn.Linear(inputSize,outputSize)\n",
    "        \n",
    "    def forward(self,x):\n",
    "        out = self.linear(x)\n",
    "        return out"
   ]
  },
  {
   "cell_type": "markdown",
   "metadata": {},
   "source": [
    "# CREATING A MODEL"
   ]
  },
  {
   "cell_type": "code",
   "execution_count": 28,
   "metadata": {},
   "outputs": [],
   "source": [
    "inputDim = 1\n",
    "outputDim = 1\n",
    "learning_rate = 0.01\n",
    "num_iters = 2000\n",
    "\n",
    "#create a linear regression model \n",
    "model = linearRegression(inputDim,outputDim)"
   ]
  },
  {
   "cell_type": "code",
   "execution_count": 29,
   "metadata": {},
   "outputs": [],
   "source": [
    "#loss function used is Mean squared Error\n",
    "criterion = nn.MSELoss()\n",
    "#optimization used is stochastic gradient descent\n",
    "optimizer = torch.optim.SGD(model.parameters(),lr = learning_rate)"
   ]
  },
  {
   "cell_type": "markdown",
   "metadata": {},
   "source": [
    "# TRAINING THE MODEL"
   ]
  },
  {
   "cell_type": "code",
   "execution_count": 33,
   "metadata": {},
   "outputs": [
    {
     "name": "stdout",
     "output_type": "stream",
     "text": [
      "eopch 0 , loss 1.3167209544917569e-09\n",
      "eopch 100 , loss 5.759788757053741e-10\n",
      "eopch 200 , loss 5.759788757053741e-10\n",
      "eopch 300 , loss 5.759788757053741e-10\n",
      "eopch 400 , loss 5.759788757053741e-10\n",
      "eopch 500 , loss 5.759788757053741e-10\n",
      "eopch 600 , loss 5.759788757053741e-10\n",
      "eopch 700 , loss 5.759788757053741e-10\n",
      "eopch 800 , loss 5.759788757053741e-10\n",
      "eopch 900 , loss 5.759788757053741e-10\n",
      "eopch 1000 , loss 5.759788757053741e-10\n",
      "eopch 1100 , loss 5.759788757053741e-10\n",
      "eopch 1200 , loss 5.759788757053741e-10\n",
      "eopch 1300 , loss 5.759788757053741e-10\n",
      "eopch 1400 , loss 5.759788757053741e-10\n",
      "eopch 1500 , loss 5.759788757053741e-10\n",
      "eopch 1600 , loss 5.759788757053741e-10\n",
      "eopch 1700 , loss 5.759788757053741e-10\n",
      "eopch 1800 , loss 5.759788757053741e-10\n",
      "eopch 1900 , loss 5.759788757053741e-10\n"
     ]
    }
   ],
   "source": [
    "for epoch in range(num_iters):\n",
    "    #converting inputs and labels to variables (A varable represents a node in computational graph containg value as well as gradient wrt some scalar value)\n",
    "    inputs = Variable(torch.from_numpy(x_train))\n",
    "    labels = Variable(torch.from_numpy(y_train))\n",
    "    \n",
    "    #Clear gradient buffers because we don't want any gradient from previous epoch to carry forward, dont want to cummulate gradients\n",
    "    optimizer.zero_grad()\n",
    "    \n",
    "    outputs = model(inputs)\n",
    "    \n",
    "    #calculating loss\n",
    "    loss = criterion(outputs,labels)\n",
    "    \n",
    "    #get gradients wrt parameters\n",
    "    loss.backward()\n",
    "    \n",
    "    #update parameters\n",
    "    optimizer.step()\n",
    "    \n",
    "    if epoch%100==0:\n",
    "        print('eopch {} , loss {}'.format(epoch,loss.item()))"
   ]
  },
  {
   "cell_type": "code",
   "execution_count": 31,
   "metadata": {},
   "outputs": [
    {
     "name": "stdout",
     "output_type": "stream",
     "text": [
      "[[ 4.999932]\n",
      " [11.999942]\n",
      " [18.999952]\n",
      " [25.999962]\n",
      " [32.999973]\n",
      " [39.99998 ]\n",
      " [46.999992]\n",
      " [54.      ]\n",
      " [61.00001 ]\n",
      " [68.00002 ]\n",
      " [75.00003 ]]\n"
     ]
    }
   ],
   "source": [
    "with torch.no_grad():\n",
    "    predicted = model(Variable(torch.from_numpy(x_train))).data.numpy()\n",
    "    print(predicted)"
   ]
  },
  {
   "cell_type": "markdown",
   "metadata": {},
   "source": [
    "# SUMMARIZING "
   ]
  },
  {
   "cell_type": "code",
   "execution_count": 35,
   "metadata": {},
   "outputs": [
    {
     "data": {
      "image/png": "[encoded data removed]",
      "text/plain": [
       "<Figure size 432x288 with 1 Axes>"
      ]
     },
     "metadata": {
      "needs_background": "light"
     },
     "output_type": "display_data"
    }
   ],
   "source": [
    "plt.clf()\n",
    "plt.plot(x_train,y_train,'ro',label='True Value')\n",
    "plt.plot(x_train,y_train,'--',label='Predictions')\n",
    "plt.legend(loc='best')\n",
    "plt.show()"
   ]
  },
  {
   "cell_type": "code",
   "execution_count": null,
   "metadata": {},
   "outputs": [],
   "source": []
  }
 ],
 "metadata": {
  "kernelspec": {
   "display_name": "Python 3",
   "language": "python",
   "name": "python3"
  },
  "language_info": {
   "codemirror_mode": {
    "name": "ipython",
    "version": 3
   },
   "file_extension": ".py",
   "mimetype": "text/x-python",
   "name": "python",
   "nbconvert_exporter": "python",
   "pygments_lexer": "ipython3",
   "version": "3.8.5"
  }
 },
 "nbformat": 4,
 "nbformat_minor": 4
}
